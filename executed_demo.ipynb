{
 "cells": [
  {
   "cell_type": "markdown",
   "metadata": {
    "colab_type": "text",
    "id": "view-in-github"
   },
   "source": [
    "<a href=\"https://colab.research.google.com/github/asivarama/Githubactions-googlecolab-practise/blob/main/demo.ipynb\" target=\"_parent\"><img src=\"https://colab.research.google.com/assets/colab-badge.svg\" alt=\"Open In Colab\"/></a>"
   ]
  },
  {
   "cell_type": "code",
   "execution_count": 1,
   "metadata": {
    "colab": {
     "base_uri": "https://localhost:8080/"
    },
    "execution": {
     "iopub.execute_input": "2025-08-02T15:50:00.591318Z",
     "iopub.status.busy": "2025-08-02T15:50:00.590865Z",
     "iopub.status.idle": "2025-08-02T15:50:00.597382Z",
     "shell.execute_reply": "2025-08-02T15:50:00.596776Z"
    },
    "id": "CAcqLqfYMeCs",
    "outputId": "1a4349be-27f9-44ed-8684-243235c340ff"
   },
   "outputs": [
    {
     "name": "stdout",
     "output_type": "stream",
     "text": [
      "✅ Executed at: 2025-08-02 15:50:00.594991\n"
     ]
    }
   ],
   "source": [
    "# In the first cell\n",
    "import datetime\n",
    "print(\"✅ Executed at:\", datetime.datetime.now())\n"
   ]
  }
 ],
 "metadata": {
  "colab": {
   "authorship_tag": "ABX9TyM4FYDbqh/tt4EpOAC+qGXo",
   "include_colab_link": true,
   "provenance": []
  },
  "kernelspec": {
   "display_name": "Python 3",
   "name": "python3"
  },
  "language_info": {
   "codemirror_mode": {
    "name": "ipython",
    "version": 3
   },
   "file_extension": ".py",
   "mimetype": "text/x-python",
   "name": "python",
   "nbconvert_exporter": "python",
   "pygments_lexer": "ipython3",
   "version": "3.11.13"
  }
 },
 "nbformat": 4,
 "nbformat_minor": 0
}
