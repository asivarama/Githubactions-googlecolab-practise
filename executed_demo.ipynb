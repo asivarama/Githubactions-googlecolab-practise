{
 "cells": [
  {
   "cell_type": "markdown",
   "metadata": {
    "colab_type": "text",
    "id": "view-in-github"
   },
   "source": [
    "<a href=\"https://colab.research.google.com/github/asivarama/Githubactions-googlecolab-practise/blob/main/demo.ipynb\" target=\"_parent\"><img src=\"https://colab.research.google.com/assets/colab-badge.svg\" alt=\"Open In Colab\"/></a>"
   ]
  },
  {
   "cell_type": "code",
   "execution_count": 1,
   "metadata": {
    "colab": {
     "base_uri": "https://localhost:8080/"
    },
    "execution": {
     "iopub.execute_input": "2025-08-02T17:13:41.051758Z",
     "iopub.status.busy": "2025-08-02T17:13:41.051582Z",
     "iopub.status.idle": "2025-08-02T17:13:41.057947Z",
     "shell.execute_reply": "2025-08-02T17:13:41.057327Z"
    },
    "id": "CAcqLqfYMeCs",
    "outputId": "7ee48969-8a1e-4b22-d54d-35c4421c1cdf"
   },
   "outputs": [
    {
     "name": "stdout",
     "output_type": "stream",
     "text": [
      "Execution started by sivaram at: 2025-08-02 17:13:41.055596\n",
      "✅ Executed at: 2025-08-02 17:13:41.055761\n"
     ]
    }
   ],
   "source": [
    "# In the first cell\n",
    "import datetime\n",
    "print(\"Execution started by sivaram at:\",datetime.datetime.now())\n",
    "sleep:10\n",
    "print(\"✅ Executed at:\", datetime.datetime.now())\n"
   ]
  },
  {
   "cell_type": "markdown",
   "metadata": {
    "id": "w_P65iL_XwV2"
   },
   "source": [
    "notebook\n",
    "nbconvert\n",
    "ipykernel\n"
   ]
  }
 ],
 "metadata": {
  "colab": {
   "authorship_tag": "ABX9TyN5ZiEwLiy5yRcU0D9pvgo7",
   "include_colab_link": true,
   "provenance": []
  },
  "kernelspec": {
   "display_name": "Python 3",
   "name": "python3"
  },
  "language_info": {
   "codemirror_mode": {
    "name": "ipython",
    "version": 3
   },
   "file_extension": ".py",
   "mimetype": "text/x-python",
   "name": "python",
   "nbconvert_exporter": "python",
   "pygments_lexer": "ipython3",
   "version": "3.11.13"
  }
 },
 "nbformat": 4,
 "nbformat_minor": 0
}
