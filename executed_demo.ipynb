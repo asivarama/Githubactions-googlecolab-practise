{
 "cells": [
  {
   "cell_type": "markdown",
   "metadata": {
    "colab_type": "text",
    "id": "view-in-github"
   },
   "source": [
    "<a href=\"https://colab.research.google.com/github/asivarama/Githubactions-googlecolab-practise/blob/main/demo.ipynb\" target=\"_parent\"><img src=\"https://colab.research.google.com/assets/colab-badge.svg\" alt=\"Open In Colab\"/></a>"
   ]
  },
  {
   "cell_type": "code",
   "execution_count": 1,
   "metadata": {
    "colab": {
     "base_uri": "https://localhost:8080/"
    },
    "execution": {
     "iopub.execute_input": "2025-08-02T16:12:35.318787Z",
     "iopub.status.busy": "2025-08-02T16:12:35.318610Z",
     "iopub.status.idle": "2025-08-02T16:12:35.324894Z",
     "shell.execute_reply": "2025-08-02T16:12:35.324336Z"
    },
    "id": "CAcqLqfYMeCs",
    "outputId": "83f6316a-8297-4520-cac9-12846c68bf7b"
   },
   "outputs": [
    {
     "name": "stdout",
     "output_type": "stream",
     "text": [
      "Execution started at: 2025-08-02 16:12:35.322507\n",
      "✅ Executed at: 2025-08-02 16:12:35.322671\n"
     ]
    }
   ],
   "source": [
    "# In the first cell\n",
    "import datetime\n",
    "print(\"Execution started at:\",datetime.datetime.now())\n",
    "sleep:10\n",
    "print(\"✅ Executed at:\", datetime.datetime.now())\n"
   ]
  },
  {
   "cell_type": "markdown",
   "metadata": {
    "id": "w_P65iL_XwV2"
   },
   "source": [
    "notebook\n",
    "nbconvert\n",
    "ipykernel\n"
   ]
  }
 ],
 "metadata": {
  "colab": {
   "authorship_tag": "ABX9TyOso7tSm5+OaH79lozkJyeE",
   "include_colab_link": true,
   "provenance": []
  },
  "kernelspec": {
   "display_name": "Python 3",
   "name": "python3"
  },
  "language_info": {
   "codemirror_mode": {
    "name": "ipython",
    "version": 3
   },
   "file_extension": ".py",
   "mimetype": "text/x-python",
   "name": "python",
   "nbconvert_exporter": "python",
   "pygments_lexer": "ipython3",
   "version": "3.11.13"
  }
 },
 "nbformat": 4,
 "nbformat_minor": 0
}
