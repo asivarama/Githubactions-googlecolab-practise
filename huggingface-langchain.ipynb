{
  "nbformat": 4,
  "nbformat_minor": 0,
  "metadata": {
    "colab": {
      "provenance": [],
      "authorship_tag": "ABX9TyOMlpfxFFWkH2R0xcWIw5mG",
      "include_colab_link": true
    },
    "kernelspec": {
      "name": "python3",
      "display_name": "Python 3"
    },
    "language_info": {
      "name": "python"
    }
  },
  "cells": [
    {
      "cell_type": "markdown",
      "metadata": {
        "id": "view-in-github",
        "colab_type": "text"
      },
      "source": [
        "<a href=\"https://colab.research.google.com/github/asivarama/Githubactions-googlecolab-practise/blob/main/huggingface-langchain.ipynb\" target=\"_parent\"><img src=\"https://colab.research.google.com/assets/colab-badge.svg\" alt=\"Open In Colab\"/></a>"
      ]
    },
    {
      "cell_type": "code",
      "metadata": {
        "id": "a40c76dd"
      },
      "source": [
        "!pip install -q langchain-community\n",
        "!pip install -q langchain_groq\n",
        "!pip install -q langchain_chroma\n",
        "!pip install -q langchain_community\n",
        "\n"
      ],
      "execution_count": 15,
      "outputs": []
    },
    {
      "cell_type": "code",
      "source": [
        "import os\n",
        "from dotenv import load_dotenv\n",
        "# It's recommended to use Colab Secrets for sensitive information like API keys\n",
        "# from google.colab import userdata\n",
        "# load_dotenv() # Only needed if using a .env file\n",
        "\n",
        "from langchain_groq import ChatGroq\n",
        "from langchain_chroma import Chroma\n",
        "from langchain_community.document_loaders import WebBaseLoader\n",
        "from langchain_core.prompts import ChatPromptTemplate\n",
        "#from langchain_openai import OpenAIEmbeddings\n",
        "from langchain_text_splitters import RecursiveCharacterTextSplitter\n",
        "from langchain_huggingface import HuggingFaceEmbeddings\n",
        "from langchain.chains import create_retrieval_chain\n",
        "from langchain.chains.combine_documents import create_stuff_documents_chain\n",
        "import bs4\n",
        "\n",
        "embeddings = HuggingFaceEmbeddings(model_name=\"all-MiniLm-L6-v2\")\n",
        "\n",
        "# Get API keys from Colab Secrets or environment variables\n",
        "# groq_api_key = userdata.get(\"GROQ_API_KEY\") or os.getenv(\"GROQ_API_KEY\")\n",
        "# hf_token = userdata.get(\"HF_TOKEN\") or os.getenv(\"HF-TOKEN\")\n",
        "# groq_api_url = userdata.get(\"GROQ_API_URL\") or os.getenv(\"GROQ_API_URL\")\n",
        "\n",
        "# For now, loading from environment variables as in your original code\n",
        "groq_api_key = os.getenv(\"GROQ_API_KEY\")\n",
        "%env GROQ_API_URL = \"https://console.groq.com/keys\"\n",
        "if not groq_api_key:\n",
        "    raise ValueError(\"GROQ_API_KEY environment variable not set.\")\n",
        "\n",
        "groq_api_url = os.getenv(\"GROQ_API_URL\")\n",
        "%env GROQ_API_URL = \"https://console.groq.com/keys\"\n",
        "if not groq_api_url:\n",
        "    raise ValueError(\"GROQ_API_URL environment variable not set.\")\n",
        "\n",
        "# Pass the API key directly to the ChatGroq constructor\n",
        "llm=ChatGroq(groq_api_key=groq_api_key, model_name=\"Llama3-8b-8192\")\n",
        "llm\n",
        "loader = WebBaselLtps://lilianwong.github.io/posts/2023-06-23-agent/\",),\n",
        "    bs_kwargs = dict(\n",
        "        parse_only=bs4.SoupStrainer(\n",
        "            css_class =(\"post-content\",\"post-title\",\"post-header\")\n",
        "            )\n",
        "    ),\n",
        ")\n",
        "#print(f\"groq_api_key\",groq_api_key)"
      ],
      "metadata": {
        "colab": {
          "base_uri": "https://localhost:8080/",
          "height": 245
        },
        "id": "wo1mCCHlmX-8",
        "outputId": "de176895-7b71-47e6-85c3-1107ca091540"
      },
      "execution_count": 49,
      "outputs": [
        {
          "output_type": "stream",
          "name": "stdout",
          "text": [
            "env: GROQ_API_URL=\"https://console.groq.com/keys\"\n",
            "env: GROQ_API_URL=\"https://console.groq.com/keys\"\n"
          ]
        },
        {
          "output_type": "error",
          "ename": "NameError",
          "evalue": "name 'WebBaseloader' is not defined",
          "traceback": [
            "\u001b[0;31m---------------------------------------------------------------------------\u001b[0m",
            "\u001b[0;31mNameError\u001b[0m                                 Traceback (most recent call last)",
            "\u001b[0;32m/tmp/ipython-input-2420045734.py\u001b[0m in \u001b[0;36m<cell line: 0>\u001b[0;34m()\u001b[0m\n\u001b[1;32m     37\u001b[0m \u001b[0mllm\u001b[0m\u001b[0;34m=\u001b[0m\u001b[0mChatGroq\u001b[0m\u001b[0;34m(\u001b[0m\u001b[0mgroq_api_key\u001b[0m\u001b[0;34m=\u001b[0m\u001b[0mgroq_api_key\u001b[0m\u001b[0;34m,\u001b[0m \u001b[0mmodel_name\u001b[0m\u001b[0;34m=\u001b[0m\u001b[0;34m\"Llama3-8b-8192\"\u001b[0m\u001b[0;34m)\u001b[0m\u001b[0;34m\u001b[0m\u001b[0;34m\u001b[0m\u001b[0m\n\u001b[1;32m     38\u001b[0m \u001b[0mllm\u001b[0m\u001b[0;34m\u001b[0m\u001b[0;34m\u001b[0m\u001b[0m\n\u001b[0;32m---> 39\u001b[0;31m loader = WebBaseloader (\n\u001b[0m\u001b[1;32m     40\u001b[0m     \u001b[0mweb_paths\u001b[0m \u001b[0;34m=\u001b[0m\u001b[0;34m(\u001b[0m\u001b[0;34m\"https://lilianwong.github.io/posts/2023-06-23-agent/\"\u001b[0m\u001b[0;34m,\u001b[0m\u001b[0;34m)\u001b[0m\u001b[0;34m,\u001b[0m\u001b[0;34m\u001b[0m\u001b[0;34m\u001b[0m\u001b[0m\n\u001b[1;32m     41\u001b[0m     bs_kwargs = dict(\n",
            "\u001b[0;31mNameError\u001b[0m: name 'WebBaseloader' is not defined"
          ]
        }
      ]
    }
  ]
}