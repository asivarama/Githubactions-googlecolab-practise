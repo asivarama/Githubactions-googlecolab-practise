{
  "nbformat": 4,
  "nbformat_minor": 0,
  "metadata": {
    "colab": {
      "provenance": [],
      "authorship_tag": "ABX9TyN5ZiEwLiy5yRcU0D9pvgo7",
      "include_colab_link": true
    },
    "kernelspec": {
      "name": "python3",
      "display_name": "Python 3"
    },
    "language_info": {
      "name": "python"
    }
  },
  "cells": [
    {
      "cell_type": "markdown",
      "metadata": {
        "id": "view-in-github",
        "colab_type": "text"
      },
      "source": [
        "<a href=\"https://colab.research.google.com/github/asivarama/Githubactions-googlecolab-practise/blob/main/demo.ipynb\" target=\"_parent\"><img src=\"https://colab.research.google.com/assets/colab-badge.svg\" alt=\"Open In Colab\"/></a>"
      ]
    },
    {
      "cell_type": "code",
      "execution_count": 3,
      "metadata": {
        "colab": {
          "base_uri": "https://localhost:8080/"
        },
        "id": "CAcqLqfYMeCs",
        "outputId": "7ee48969-8a1e-4b22-d54d-35c4421c1cdf"
      },
      "outputs": [
        {
          "output_type": "stream",
          "name": "stdout",
          "text": [
            "Execution started by sivaram at: 2025-08-02 16:15:51.545255\n",
            "✅ Executed at: 2025-08-02 16:15:51.545407\n"
          ]
        }
      ],
      "source": [
        "# In the first cell\n",
        "import datetime\n",
        "print(\"Execution started by sivaram at:\",datetime.datetime.now())\n",
        "sleep:10\n",
        "print(\"✅ Executed at:\", datetime.datetime.now())\n"
      ]
    },
    {
      "cell_type": "markdown",
      "source": [
        "notebook\n",
        "nbconvert\n",
        "ipykernel\n"
      ],
      "metadata": {
        "id": "w_P65iL_XwV2"
      }
    }
  ]
}