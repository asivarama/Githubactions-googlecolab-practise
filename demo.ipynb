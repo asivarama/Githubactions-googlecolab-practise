{
  "nbformat": 4,
  "nbformat_minor": 0,
  "metadata": {
    "colab": {
      "provenance": [],
      "authorship_tag": "ABX9TyOso7tSm5+OaH79lozkJyeE",
      "include_colab_link": true
    },
    "kernelspec": {
      "name": "python3",
      "display_name": "Python 3"
    },
    "language_info": {
      "name": "python"
    }
  },
  "cells": [
    {
      "cell_type": "markdown",
      "metadata": {
        "id": "view-in-github",
        "colab_type": "text"
      },
      "source": [
        "<a href=\"https://colab.research.google.com/github/asivarama/Githubactions-googlecolab-practise/blob/main/demo.ipynb\" target=\"_parent\"><img src=\"https://colab.research.google.com/assets/colab-badge.svg\" alt=\"Open In Colab\"/></a>"
      ]
    },
    {
      "cell_type": "code",
      "execution_count": 2,
      "metadata": {
        "colab": {
          "base_uri": "https://localhost:8080/"
        },
        "id": "CAcqLqfYMeCs",
        "outputId": "83f6316a-8297-4520-cac9-12846c68bf7b"
      },
      "outputs": [
        {
          "output_type": "stream",
          "name": "stdout",
          "text": [
            "Execution started at: 2025-08-02 15:56:11.215452\n",
            "✅ Executed at: 2025-08-02 15:56:11.215651\n"
          ]
        }
      ],
      "source": [
        "# In the first cell\n",
        "import datetime\n",
        "print(\"Execution started at:\",datetime.datetime.now())\n",
        "sleep:10\n",
        "print(\"✅ Executed at:\", datetime.datetime.now())\n"
      ]
    },
    {
      "cell_type": "markdown",
      "source": [
        "notebook\n",
        "nbconvert\n",
        "ipykernel\n"
      ],
      "metadata": {
        "id": "w_P65iL_XwV2"
      }
    }
  ]
}